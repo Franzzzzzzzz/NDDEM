{
 "cells": [
  {
   "cell_type": "code",
   "execution_count": 1,
   "id": "b8bbb31a",
   "metadata": {},
   "outputs": [],
   "source": [
    "from scipy.spatial import ConvexHull\n",
    "import numpy as np\n",
    "import json "
   ]
  },
  {
   "cell_type": "code",
   "execution_count": 10,
   "id": "e6865916",
   "metadata": {},
   "outputs": [],
   "source": [
    "file = '../src/Dem/Mesh-D4.json'\n",
    "viewpoint=[0]  #viewpoint in the dimensions higher than 1-3 (1-based counting). Size d-3\n",
    "outfile = 'MeshD4'"
   ]
  },
  {
   "cell_type": "code",
   "execution_count": 3,
   "id": "026a1062",
   "metadata": {},
   "outputs": [],
   "source": [
    "def almostequal (a, b):\n",
    "    epsilon = 1e-7 ; \n",
    "    return abs(a-b)<=epsilon ; \n",
    "\n",
    "def segment_3dspace_intersection(vp, p1, p2):\n",
    "    u=np.array(p2)-np.array(p1) ; \n",
    "    v=np.hstack(([0,0,0],vp)) ;\n",
    "    ninside=0 ; \n",
    "    for i in range(3,len(p1)):\n",
    "        if almostequal(u[i],0):\n",
    "            if not almostequal(v[i], p1[i]): return [] ;\n",
    "            else: ninside +=1 ; \n",
    "        else:\n",
    "            alpha=(v[i]-p1[i])/u[i] ; \n",
    "            if alpha>1 or alpha<0 : return [] ;\n",
    "            if i>3:\n",
    "                if not almostequal(alpha, alphaprev): return [] ; \n",
    "            alphaprev=alpha ; \n",
    "    \n",
    "    #we got one!\n",
    "    if ninside==len(p1)-3: #all the segment is inside\n",
    "        return [np.array(p1),np.array(p2)] ;\n",
    "    else:\n",
    "        inter=p1+alpha*u ;\n",
    "        return [inter] ; \n",
    "\n",
    "def intersectionpoints(obj, vp):\n",
    "    pts=[] \n",
    "    if obj['dimensionality']==0: return [np.array(obj['vertices'][0])] \n",
    "    for i in range (0, obj['dimensionality']+1):\n",
    "        for j in range(i+1, obj['dimensionality']+1):\n",
    "            pts += segment_3dspace_intersection(vp, obj['vertices'][i], obj['vertices'][j])\n",
    "    return pts ; \n",
    "\n",
    "def normal (p1, p2, p3):\n",
    "    u=p2-p1 ; \n",
    "    v=p3-p1 ; \n",
    "    w=np.cross(u,v) ; \n",
    "    w/=np.linalg.norm(w) ; \n",
    "    return w ; "
   ]
  },
  {
   "cell_type": "code",
   "execution_count": 13,
   "id": "cef69088",
   "metadata": {},
   "outputs": [],
   "source": [
    "f = open(file)\n",
    "data = json.load(f)\n",
    "f.close() ; \n",
    "\n",
    "f = open(outfile+'.vtk', \"w\")\n",
    "f.write(\"# vtk DataFile Version 2.0\\nReally cool data\\nASCII\\nDATASET POLYDATA\\n\")\n",
    "\n",
    "allpoints=np.empty((0,3)) ; \n",
    "allvertices=np.empty((0,1), dtype=np.int64)  ; \n",
    "alllines=np.empty((0,2), dtype=np.int64)  ; \n",
    "alltriangles=np.empty((0,3), dtype=np.int64)  ; \n",
    "npts=0 ; \n",
    "\n",
    "for o in data['objects']:\n",
    "    pts=intersectionpoints(o, viewpoint);\n",
    "    pts = [ pts[i][0:3] for i in range(0,len(pts))]\n",
    "    pts = np.unique(np.array(pts), axis=0)\n",
    "    \n",
    "    if   len(pts)==0: continue ; \n",
    "    elif len(pts)==1:\n",
    "        allpoints = np.vstack((allpoints, pts)) ;  \n",
    "        allvertices = np.vstack((allvertices, npts)) ; \n",
    "        npts += 1 ; \n",
    "    elif len(pts)==2:\n",
    "        allpoints = np.vstack((allpoints, pts)) ;  \n",
    "        alllines = np.vstack((alllines, [npts, npts+1])) ;\n",
    "        npts += 2 ; \n",
    "    elif len(pts)==3:\n",
    "        allpoints = np.vstack((allpoints, pts)) ; \n",
    "        alltriangles = np.vstack((alltriangles, [npts, npts+1, npts+2])) ;\n",
    "        npts += 3 ; \n",
    "    else :\n",
    "        hull = ConvexHull(pts)\n",
    "        allpoints = np.vstack((allpoints, pts)) ; \n",
    "        alltriangles = np.vstack((alltriangles, hull.simplices+npts)) ; \n",
    "        npts += len(pts) ; \n",
    "    \n",
    "f.write(f\"POINTS {len(allpoints)} float\\n\")\n",
    "for i in allpoints:\n",
    "    f.write(f\"{i[0]} {i[1]} {i[2]} \\n\")\n",
    "\n",
    "f.write(f\"VERTICES {len(allvertices)} {len(allvertices)*2}\\n\")\n",
    "for i in allvertices:\n",
    "    f.write(f\"1 {i[0]}\\n\")\n",
    "    \n",
    "f.write(f\"LINES {len(alllines)} {len(alllines)*3}\\n\")\n",
    "for i in alllines:\n",
    "    f.write(f\"2 {i[0]} {i[1]}\\n\")\n",
    "\n",
    "f.write(f\"POLYGONS {len(alltriangles)} {len(alltriangles)*4}\\n\")\n",
    "for i in alltriangles:\n",
    "    f.write(f\"3 {i[0]} {i[1]} {i[2]}\\n\")\n",
    "    \n",
    "f.close() ; \n",
    "\n"
   ]
  },
  {
   "cell_type": "code",
   "execution_count": 113,
   "id": "0fde64da",
   "metadata": {},
   "outputs": [
    {
     "name": "stdout",
     "output_type": "stream",
     "text": [
      "[[2 3 0]\n",
      " [1 3 0]\n",
      " [1 2 0]\n",
      " [1 2 3]]\n"
     ]
    }
   ],
   "source": [
    "f = open(file)\n",
    "data = json.load(f)\n",
    "f.close() ; \n",
    "\n",
    "if data['dimension'] < 3 : \n",
    "    print('No possible conversion to stl for dimensions lower than 3.')\n",
    "\n",
    "#assert data['dimension']==len(viewpoint)+3, \"Number of dimensions in mesh file inconsistent with the viewpoint length.\"\n",
    "f = open(outfile+'.stl', \"w\")\n",
    "f.write(\"solid convertedfromjson\\n\")\n",
    "\n",
    "for o in data['objects']:\n",
    "    pts=intersectionpoints(o, viewpoint);\n",
    "    pts = [ pts[i][0:3] for i in range(0,len(pts))]\n",
    "    pts = np.unique(np.array(pts), axis=0)\n",
    "    hull = ConvexHull(pts)\n",
    "    \n",
    "    for i in hull.simplices:\n",
    "        n = normal(hull.points[i[0]], hull.points[i[1]], hull.points[i[2]])\n",
    "        f.write(f\"\\tfacet normal {n[0]} {n[1]} {n[2]}\\n\")\n",
    "        f.write(\"\\touter loop\\n\") ;\n",
    "        f.write(f\"\\t\\tvertex {hull.points[i[0]][0]} {hull.points[i[0]][1]} {hull.points[i[0]][2]}\\n\")\n",
    "        f.write(f\"\\t\\tvertex {hull.points[i[1]][0]} {hull.points[i[1]][1]} {hull.points[i[1]][2]}\\n\")\n",
    "        f.write(f\"\\t\\tvertex {hull.points[i[2]][0]} {hull.points[i[2]][1]} {hull.points[i[2]][2]}\\n\")\n",
    "        f.write(\"\\tendloop\\nendfacet\\n\")\n",
    "    \n",
    "\n",
    "f.write(\"endsolid convertedfromjson\")\n",
    "f.close() ; \n",
    "\n",
    "\n",
    "\n"
   ]
  },
  {
   "cell_type": "code",
   "execution_count": 12,
   "id": "4878b841",
   "metadata": {},
   "outputs": [],
   "source": [
    "f = open('../src/Dem/Mesh.json')\n",
    "data = json.load(f)\n",
    "f.close() ; "
   ]
  },
  {
   "cell_type": "code",
   "execution_count": 124,
   "id": "9331f526",
   "metadata": {},
   "outputs": [
    {
     "data": {
      "text/plain": [
       "array([[1, 0, 3],\n",
       "       [2, 0, 3],\n",
       "       [2, 1, 3],\n",
       "       [2, 1, 0]], dtype=int32)"
      ]
     },
     "execution_count": 124,
     "metadata": {},
     "output_type": "execute_result"
    }
   ],
   "source": [
    "rng = np.random.default_rng()\n",
    "points = rng.random((4, 3))\n",
    "hull = ConvexHull(points)\n",
    "hull.simplices"
   ]
  },
  {
   "cell_type": "code",
   "execution_count": 133,
   "id": "452d941d",
   "metadata": {},
   "outputs": [
    {
     "name": "stdout",
     "output_type": "stream",
     "text": [
      "[[1, 2], [2, 2]]\n"
     ]
    }
   ],
   "source": [
    "a=[] ; \n",
    "a+=[[1,2],[2,2]]\n",
    "a+=[]\n",
    "print(a)"
   ]
  },
  {
   "cell_type": "code",
   "execution_count": 38,
   "id": "2317fcc8",
   "metadata": {},
   "outputs": [
    {
     "ename": "TypeError",
     "evalue": "unsupported operand type(s) for -: 'list' and 'list'",
     "output_type": "error",
     "traceback": [
      "\u001b[0;31m---------------------------------------------------------------------------\u001b[0m",
      "\u001b[0;31mTypeError\u001b[0m                                 Traceback (most recent call last)",
      "Cell \u001b[0;32mIn [38], line 1\u001b[0m\n\u001b[0;32m----> 1\u001b[0m \u001b[43msegment_3dspace_intersection\u001b[49m\u001b[43m(\u001b[49m\u001b[43m[\u001b[49m\u001b[43m]\u001b[49m\u001b[43m,\u001b[49m\u001b[43m \u001b[49m\u001b[43m[\u001b[49m\u001b[38;5;241;43m0\u001b[39;49m\u001b[43m,\u001b[49m\u001b[38;5;241;43m0\u001b[39;49m\u001b[43m,\u001b[49m\u001b[38;5;241;43m0\u001b[39;49m\u001b[43m]\u001b[49m\u001b[43m,\u001b[49m\u001b[43m[\u001b[49m\u001b[38;5;241;43m0\u001b[39;49m\u001b[43m,\u001b[49m\u001b[38;5;241;43m0\u001b[39;49m\u001b[43m,\u001b[49m\u001b[38;5;241;43m1\u001b[39;49m\u001b[43m]\u001b[49m\u001b[43m)\u001b[49m\n",
      "Cell \u001b[0;32mIn [37], line 6\u001b[0m, in \u001b[0;36msegment_3dspace_intersection\u001b[0;34m(vp, p1, p2)\u001b[0m\n\u001b[1;32m      5\u001b[0m \u001b[38;5;28;01mdef\u001b[39;00m \u001b[38;5;21msegment_3dspace_intersection\u001b[39m(vp, p1, p2):\n\u001b[0;32m----> 6\u001b[0m     u\u001b[38;5;241m=\u001b[39m\u001b[43mp2\u001b[49m\u001b[38;5;241;43m-\u001b[39;49m\u001b[43mp1\u001b[49m\n\u001b[1;32m      7\u001b[0m     v\u001b[38;5;241m=\u001b[39mnp\u001b[38;5;241m.\u001b[39mhstack(([\u001b[38;5;241m0\u001b[39m,\u001b[38;5;241m0\u001b[39m,\u001b[38;5;241m0\u001b[39m],vp)) ;\n\u001b[1;32m      8\u001b[0m     ninside\u001b[38;5;241m=\u001b[39m\u001b[38;5;241m0\u001b[39m ; \n",
      "\u001b[0;31mTypeError\u001b[0m: unsupported operand type(s) for -: 'list' and 'list'"
     ]
    }
   ],
   "source": []
  },
  {
   "cell_type": "code",
   "execution_count": null,
   "id": "9640aadc",
   "metadata": {},
   "outputs": [],
   "source": []
  }
 ],
 "metadata": {
  "kernelspec": {
   "display_name": "Python 3 (ipykernel)",
   "language": "python",
   "name": "python3"
  },
  "language_info": {
   "codemirror_mode": {
    "name": "ipython",
    "version": 3
   },
   "file_extension": ".py",
   "mimetype": "text/x-python",
   "name": "python",
   "nbconvert_exporter": "python",
   "pygments_lexer": "ipython3",
   "version": "3.9.1"
  }
 },
 "nbformat": 4,
 "nbformat_minor": 5
}
